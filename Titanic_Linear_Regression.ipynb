{
 "cells": [
  {
   "cell_type": "markdown",
   "metadata": {
    "id": "2_cJypdzHTQI"
   },
   "source": [
    "# **Titanic - Machine Learning from Disaster**"
   ]
  },
  {
   "cell_type": "markdown",
   "metadata": {
    "id": "-Ywdg8t8HTQL"
   },
   "source": [
    "-------------------------------\n",
    "## **Project Goal**\n",
    "-------------------------------\n",
    "\n",
    "Our goal is to predict if a passenger survived the sinking of the Titanic or not.\n",
    "\n",
    "- Starting with a linear regression model\n",
    "\n",
    "----------------------------\n",
    "## **Dataset Columns (What We're Examining)**\n",
    "---------------------------\n",
    "- **Survival:** Survival status of passengers\n",
    "- **Pclass:** Ticket class (1 = 1st, 2 = 2nd, 3 = 3rd)\n",
    "- **Sex:** Sex\n",
    "- **Age:** Age in years \n",
    "- **Sibsp:** Number of siblings/spouses aboard the Titanic\n",
    "- **Parch:** Number of parents / children aboard the Titanic\t\n",
    "- **Ticket:** Ticket number\n",
    "- **Fare:** Passanger fare in dollars\n",
    "- **Cabin:** Cabin number\n",
    "- **Embarked:** Port of embarkment (C = Cherbourg, Q = Queenstown, S = Southampton)"
   ]
  },
  {
   "cell_type": "markdown",
   "metadata": {
    "id": "Pzh5TNLcHTQM"
   },
   "source": [
    "## Step 1. Importing Necessary Libraries and Dataset Overview"
   ]
  },
  {
   "cell_type": "code",
   "execution_count": 44,
   "metadata": {
    "id": "JAwzXNJvHTQN"
   },
   "outputs": [],
   "source": [
    "# Import libraries for data manipulation\n",
    "import pandas as pd\n",
    "\n",
    "import numpy as np\n",
    "\n",
    "# Import libraries for data visualization\n",
    "import matplotlib.pyplot as plt\n",
    "\n",
    "import seaborn as sns\n",
    "\n",
    "from statsmodels.graphics.gofplots import ProbPlot\n",
    "\n",
    "# Import libraries for building linear regression model\n",
    "from statsmodels.formula.api import ols\n",
    "\n",
    "import statsmodels.api as sm\n",
    "\n",
    "from sklearn.linear_model import LinearRegression\n",
    "\n",
    "# Import library for preparing data\n",
    "from sklearn.model_selection import train_test_split\n",
    "\n",
    "# Import library for data preprocessing\n",
    "from sklearn.preprocessing import MinMaxScaler\n",
    "\n",
    "import warnings\n",
    "warnings.filterwarnings(\"ignore\")"
   ]
  },
  {
   "cell_type": "markdown",
   "metadata": {
    "id": "J7VVqC8nHTQT"
   },
   "source": [
    "### Step 2. Loading the data"
   ]
  },
  {
   "cell_type": "code",
   "execution_count": 45,
   "metadata": {
    "colab": {
     "base_uri": "https://localhost:8080/",
     "height": 204
    },
    "id": "zEHB3h_pHTQU",
    "outputId": "87895484-50ac-4e04-ba49-da32f8b78dfc",
    "scrolled": false
   },
   "outputs": [
    {
     "data": {
      "text/html": [
       "<div>\n",
       "<style scoped>\n",
       "    .dataframe tbody tr th:only-of-type {\n",
       "        vertical-align: middle;\n",
       "    }\n",
       "\n",
       "    .dataframe tbody tr th {\n",
       "        vertical-align: top;\n",
       "    }\n",
       "\n",
       "    .dataframe thead th {\n",
       "        text-align: right;\n",
       "    }\n",
       "</style>\n",
       "<table border=\"1\" class=\"dataframe\">\n",
       "  <thead>\n",
       "    <tr style=\"text-align: right;\">\n",
       "      <th></th>\n",
       "      <th>PassengerId</th>\n",
       "      <th>Survived</th>\n",
       "      <th>Pclass</th>\n",
       "      <th>Name</th>\n",
       "      <th>Sex</th>\n",
       "      <th>Age</th>\n",
       "      <th>SibSp</th>\n",
       "      <th>Parch</th>\n",
       "      <th>Ticket</th>\n",
       "      <th>Fare</th>\n",
       "      <th>Cabin</th>\n",
       "      <th>Embarked</th>\n",
       "    </tr>\n",
       "  </thead>\n",
       "  <tbody>\n",
       "    <tr>\n",
       "      <th>0</th>\n",
       "      <td>1</td>\n",
       "      <td>0</td>\n",
       "      <td>3</td>\n",
       "      <td>Braund, Mr. Owen Harris</td>\n",
       "      <td>male</td>\n",
       "      <td>22.0</td>\n",
       "      <td>1</td>\n",
       "      <td>0</td>\n",
       "      <td>A/5 21171</td>\n",
       "      <td>7.2500</td>\n",
       "      <td>NaN</td>\n",
       "      <td>S</td>\n",
       "    </tr>\n",
       "    <tr>\n",
       "      <th>1</th>\n",
       "      <td>2</td>\n",
       "      <td>1</td>\n",
       "      <td>1</td>\n",
       "      <td>Cumings, Mrs. John Bradley (Florence Briggs Th...</td>\n",
       "      <td>female</td>\n",
       "      <td>38.0</td>\n",
       "      <td>1</td>\n",
       "      <td>0</td>\n",
       "      <td>PC 17599</td>\n",
       "      <td>71.2833</td>\n",
       "      <td>C85</td>\n",
       "      <td>C</td>\n",
       "    </tr>\n",
       "    <tr>\n",
       "      <th>2</th>\n",
       "      <td>3</td>\n",
       "      <td>1</td>\n",
       "      <td>3</td>\n",
       "      <td>Heikkinen, Miss. Laina</td>\n",
       "      <td>female</td>\n",
       "      <td>26.0</td>\n",
       "      <td>0</td>\n",
       "      <td>0</td>\n",
       "      <td>STON/O2. 3101282</td>\n",
       "      <td>7.9250</td>\n",
       "      <td>NaN</td>\n",
       "      <td>S</td>\n",
       "    </tr>\n",
       "    <tr>\n",
       "      <th>3</th>\n",
       "      <td>4</td>\n",
       "      <td>1</td>\n",
       "      <td>1</td>\n",
       "      <td>Futrelle, Mrs. Jacques Heath (Lily May Peel)</td>\n",
       "      <td>female</td>\n",
       "      <td>35.0</td>\n",
       "      <td>1</td>\n",
       "      <td>0</td>\n",
       "      <td>113803</td>\n",
       "      <td>53.1000</td>\n",
       "      <td>C123</td>\n",
       "      <td>S</td>\n",
       "    </tr>\n",
       "    <tr>\n",
       "      <th>4</th>\n",
       "      <td>5</td>\n",
       "      <td>0</td>\n",
       "      <td>3</td>\n",
       "      <td>Allen, Mr. William Henry</td>\n",
       "      <td>male</td>\n",
       "      <td>35.0</td>\n",
       "      <td>0</td>\n",
       "      <td>0</td>\n",
       "      <td>373450</td>\n",
       "      <td>8.0500</td>\n",
       "      <td>NaN</td>\n",
       "      <td>S</td>\n",
       "    </tr>\n",
       "  </tbody>\n",
       "</table>\n",
       "</div>"
      ],
      "text/plain": [
       "   PassengerId  Survived  Pclass  \\\n",
       "0            1         0       3   \n",
       "1            2         1       1   \n",
       "2            3         1       3   \n",
       "3            4         1       1   \n",
       "4            5         0       3   \n",
       "\n",
       "                                                Name     Sex   Age  SibSp  \\\n",
       "0                            Braund, Mr. Owen Harris    male  22.0      1   \n",
       "1  Cumings, Mrs. John Bradley (Florence Briggs Th...  female  38.0      1   \n",
       "2                             Heikkinen, Miss. Laina  female  26.0      0   \n",
       "3       Futrelle, Mrs. Jacques Heath (Lily May Peel)  female  35.0      1   \n",
       "4                           Allen, Mr. William Henry    male  35.0      0   \n",
       "\n",
       "   Parch            Ticket     Fare Cabin Embarked  \n",
       "0      0         A/5 21171   7.2500   NaN        S  \n",
       "1      0          PC 17599  71.2833   C85        C  \n",
       "2      0  STON/O2. 3101282   7.9250   NaN        S  \n",
       "3      0            113803  53.1000  C123        S  \n",
       "4      0            373450   8.0500   NaN        S  "
      ]
     },
     "execution_count": 45,
     "metadata": {},
     "output_type": "execute_result"
    }
   ],
   "source": [
    "df = pd.read_csv(\"D:/Mac/Learning_Resources/Kaggle Projects/titanic/train.csv\")\n",
    "\n",
    "df.head()"
   ]
  },
  {
   "cell_type": "markdown",
   "metadata": {
    "id": "ynVgcm3SmEaI"
   },
   "source": [
    "**Observation:**\n",
    "\n",
    "* The variable 'Survived' is the target variable to be predicted, and the rest of the variables are independent variables based on which we will predict passangers that survived (Survived)."
   ]
  },
  {
   "cell_type": "markdown",
   "metadata": {
    "id": "PihFetI8HTQd"
   },
   "source": [
    "### Step 3.  Checking the info of the data"
   ]
  },
  {
   "cell_type": "code",
   "execution_count": 46,
   "metadata": {
    "colab": {
     "base_uri": "https://localhost:8080/"
    },
    "id": "oGOWxi76HTQd",
    "outputId": "0695ee0a-5e82-49a2-9f7e-9ed8d34e1531",
    "scrolled": false
   },
   "outputs": [
    {
     "name": "stdout",
     "output_type": "stream",
     "text": [
      "<class 'pandas.core.frame.DataFrame'>\n",
      "RangeIndex: 891 entries, 0 to 890\n",
      "Data columns (total 12 columns):\n",
      " #   Column       Non-Null Count  Dtype  \n",
      "---  ------       --------------  -----  \n",
      " 0   PassengerId  891 non-null    int64  \n",
      " 1   Survived     891 non-null    int64  \n",
      " 2   Pclass       891 non-null    int64  \n",
      " 3   Name         891 non-null    object \n",
      " 4   Sex          891 non-null    object \n",
      " 5   Age          714 non-null    float64\n",
      " 6   SibSp        891 non-null    int64  \n",
      " 7   Parch        891 non-null    int64  \n",
      " 8   Ticket       891 non-null    object \n",
      " 9   Fare         891 non-null    float64\n",
      " 10  Cabin        204 non-null    object \n",
      " 11  Embarked     889 non-null    object \n",
      "dtypes: float64(2), int64(5), object(5)\n",
      "memory usage: 83.7+ KB\n"
     ]
    }
   ],
   "source": [
    "df.info()"
   ]
  },
  {
   "cell_type": "markdown",
   "metadata": {
    "id": "NAnFYrfhmEaJ"
   },
   "source": [
    "**Observations:**\n",
    "\n",
    "- Overall there are 891 rows of data. \n",
    "- There are 12 columns in dataset, **each column (n = 7) is of numeric data except Name, Sex, Ticket, Cabin, and Embarked.**\n",
    "- **9 columns have 891 non-null observations except Age = 714 rows, Cabin = 204 rows, and Embarked = 889 rows.** This indicates that some variables have missing data."
   ]
  },
  {
   "cell_type": "markdown",
   "metadata": {},
   "source": [
    "## Step 4: Summary Statistics of the Dataset"
   ]
  },
  {
   "cell_type": "code",
   "execution_count": 47,
   "metadata": {
    "id": "bBhsiAbxHTQg",
    "scrolled": true
   },
   "outputs": [
    {
     "name": "stdout",
     "output_type": "stream",
     "text": [
      "       PassengerId    Survived      Pclass         Age       SibSp  \\\n",
      "count   891.000000  891.000000  891.000000  714.000000  891.000000   \n",
      "mean    446.000000    0.383838    2.308642   29.699118    0.523008   \n",
      "std     257.353842    0.486592    0.836071   14.526497    1.102743   \n",
      "min       1.000000    0.000000    1.000000    0.420000    0.000000   \n",
      "25%     223.500000    0.000000    2.000000   20.125000    0.000000   \n",
      "50%     446.000000    0.000000    3.000000   28.000000    0.000000   \n",
      "75%     668.500000    1.000000    3.000000   38.000000    1.000000   \n",
      "max     891.000000    1.000000    3.000000   80.000000    8.000000   \n",
      "\n",
      "            Parch        Fare  \n",
      "count  891.000000  891.000000  \n",
      "mean     0.381594   32.204208  \n",
      "std      0.806057   49.693429  \n",
      "min      0.000000    0.000000  \n",
      "25%      0.000000    7.910400  \n",
      "50%      0.000000   14.454200  \n",
      "75%      0.000000   31.000000  \n",
      "max      6.000000  512.329200  \n"
     ]
    }
   ],
   "source": [
    "df = pd.read_csv(\"D:/Mac/Learning_Resources/Kaggle Projects/titanic/train.csv\")\n",
    "summary_statistics = df.describe()\n",
    "\n",
    "print(summary_statistics)"
   ]
  },
  {
   "cell_type": "markdown",
   "metadata": {
    "id": "JacT19X1RAiQ"
   },
   "source": [
    "**Observations:**\n",
    "\n",
    "- Survival Rate: The average survival rate is 38.38%, meaning about 38% of passengers survived, while the remaining 62% did not. The standard deviation of 0.49 suggests a high level of variability in survival across passengers.\n",
    "\n",
    "- Passenger Class (Pclass): The average passenger class is 2.31, which indicates that most passengers were in the lower (second and third) classes. The standard deviation of 0.84 suggests that there is a reasonable spread among the three classes (1st, 2nd, and 3rd). The minimum and maximum values range from 1 to 3, confirming that passengers were distributed across all three classes.\n",
    "\n",
    "- Age: The average age of the passengers is 29.70 years, with a standard deviation of 14.53 years, suggesting significant age variability among passengers. The minimum age is 0.42 years (likely an infant), and the maximum age is 80 years, showing a wide range of ages. Notably, the age count is lower than other variables (714 instead of 891), indicating missing values for some passengers.\n",
    "\n",
    "- Number of Siblings/Spouses (SibSp): On average, passengers had 0.52 siblings or spouses onboard, with a standard deviation of 1.10, indicating that most passengers traveled alone or with just one companion. The maximum number of siblings/spouses is 8, suggesting that a few passengers traveled with large families.\n",
    "\n",
    "- Number of Parents/Children (Parch): The average number of parents or children aboard is 0.38, with a standard deviation of 0.81, suggesting that most passengers did not have parents or children traveling with them. The maximum number is 6, indicating a few passengers had larger family groups with them.\n",
    "\n",
    "- Fare: The average fare paid by passengers is 32.20 units, with a large standard deviation of 49.69, indicating a significant variation in ticket prices. The minimum fare is 0 (indicating some passengers traveled for free), while the maximum is 512.33, showing that some passengers paid very high fares, likely for first-class accommodations.\n",
    "\n",
    "\n",
    "**Summary:**\n",
    "- Survival: Only about 38% of passengers survived, with a wide range of outcomes across different passenger groups.\n",
    "- Pclass: Most passengers traveled in the lower classes, with class 3 being the most common.\n",
    "- Age: Passengers' ages ranged widely, from infants to elderly passengers.\n",
    "- SibSp and Parch: Most passengers traveled alone or with one companion, and relatively few traveled with large families.\n",
    "- Fare: There is a large variation in fares, likely reflecting differences in passenger class and accommodations."
   ]
  },
  {
   "cell_type": "markdown",
   "metadata": {},
   "source": [
    "## Step 5. Checking the Distribution of the Variables"
   ]
  },
  {
   "cell_type": "code",
   "execution_count": 48,
   "metadata": {
    "colab": {
     "base_uri": "https://localhost:8080/",
     "height": 1000
    },
    "id": "tz6okxTbmEaL",
    "outputId": "b5de0bcd-3643-4153-f1f5-752875965baf",
    "scrolled": false
   },
   "outputs": [
    {
     "data": {
      "image/png": "[encoded data removed]",
      "text/plain": [
       "<Figure size 504x288 with 1 Axes>"
      ]
     },
     "metadata": {
      "needs_background": "light"
     },
     "output_type": "display_data"
    },
    {
     "data": {
      "image/png": "[encoded data removed]",
      "text/plain": [
       "<Figure size 504x288 with 1 Axes>"
      ]
     },
     "metadata": {
      "needs_background": "light"
     },
     "output_type": "display_data"
    },
    {
     "data": {
      "image/png": "[encoded data removed]",
      "text/plain": [
       "<Figure size 504x288 with 1 Axes>"
      ]
     },
     "metadata": {
      "needs_background": "light"
     },
     "output_type": "display_data"
    },
    {
     "data": {
      "image/png": "[encoded data removed]",
      "text/plain": [
       "<Figure size 504x288 with 1 Axes>"
      ]
     },
     "metadata": {
      "needs_background": "light"
     },
     "output_type": "display_data"
    },
    {
     "data": {
      "image/png": "[encoded data removed]",
      "text/plain": [
       "<Figure size 504x288 with 1 Axes>"
      ]
     },
     "metadata": {
      "needs_background": "light"
     },
     "output_type": "display_data"
    },
    {
     "data": {
      "image/png": "[encoded data removed]",
      "text/plain": [
       "<Figure size 504x288 with 1 Axes>"
      ]
     },
     "metadata": {
      "needs_background": "light"
     },
     "output_type": "display_data"
    },
    {
     "data": {
      "image/png": "[encoded data removed]",
      "text/plain": [
       "<Figure size 504x288 with 1 Axes>"
      ]
     },
     "metadata": {
      "needs_background": "light"
     },
     "output_type": "display_data"
    },
    {
     "data": {
      "image/png": "[encoded data removed]",
      "text/plain": [
       "<Figure size 504x288 with 1 Axes>"
      ]
     },
     "metadata": {
      "needs_background": "light"
     },
     "output_type": "display_data"
    }
   ],
   "source": [
    "# Plotting all the columns to look at their distributions\n",
    "# List of specific columns to plot\n",
    "columns_to_plot = ['Survived', 'Pclass', 'Sex', 'Age', 'SibSp', 'Parch', 'Fare', 'Embarked']\n",
    "\n",
    "# Loop through each of the specified columns and plot their distributions\n",
    "for i in columns_to_plot: \n",
    "    \n",
    "    plt.figure(figsize=(7, 4))  # Set the size of the plot\n",
    "    \n",
    "    # Check if the column is categorical ('Sex', 'Embarked') or numerical\n",
    "    if df[i].dtype == 'object':  # For categorical columns\n",
    "        sns.countplot(data=df, x=i)  # Use a count plot for categorical data\n",
    "    else:  # For numerical columns\n",
    "        sns.histplot(data=df, x=i, kde=True)  # Use a histogram with KDE for numerical data\n",
    "    \n",
    "    plt.title(f'Distribution of {i}')  # Set the title of the plot\n",
    "    plt.show()  # Show the plot"
   ]
  },
  {
   "cell_type": "markdown",
   "metadata": {
    "id": "7r8aVFPbRKpv"
   },
   "source": [
    "**Observations:**\n",
    "\n",
    "- Survived: The majority of passengers (about 550) did not survive, with about 350 surviving. The data shows an imbalance between survivors and non-survivors.\n",
    "\n",
    "- Pclass: Most passengers were in third class, with fewer in first and second class. The large number of third-class passengers suggests socioeconomic differences aboard the Titanic.\n",
    "\n",
    "- Sex: There were about twice as many male passengers (around 600) as female passengers (around 300).\n",
    "\n",
    "- Age: The age distribution is roughly normal, peaking between 20-30 years, with fewer young children and elderly passengers. Most passengers were young to middle-aged.\n",
    "\n",
    "- SibSp: Most passengers traveled alone or with one sibling/spouse. Few passengers had larger family groups aboard, as indicated by the long tail in the distribution. \n",
    "\n",
    "- Parch: Similar to SibSp, most passengers(about 700) did not travel with parents or children. Only a small number had one or more dependents aboard, with the count diminishing rapidly as the number of dependants increased.\n",
    "\n",
    "- Fare: The fare distribution is highly skewed to the right, with most passengers paying relatively low fares. A few passengers paid significantly higher fares, with a long tail extending beyond 500 dollars. This highlights the socioeconomic diversity among the passengers.\n",
    "\n",
    "- Embarked: Most passengers boarded at Southampton, with fewer from Cherbourg and Queenstown. This highlights Southampton as the primary embarkation point."
   ]
  },
  {
   "cell_type": "markdown",
   "metadata": {
    "id": "HvSm7rwE65_B"
   },
   "source": [
    "## Step 6: Bivariate Analysis - Heat-map"
   ]
  },
  {
   "cell_type": "code",
   "execution_count": 49,
   "metadata": {
    "colab": {
     "base_uri": "https://localhost:8080/",
     "height": 526
    },
    "id": "XGnlhiwGHTQz",
    "outputId": "3011b89d-de44-42d2-ba4e-ab8b2ef526aa",
    "scrolled": false
   },
   "outputs": [
    {
     "data": {
      "image/png": "[encoded data removed]",
      "text/plain": [
       "<Figure size 864x576 with 2 Axes>"
      ]
     },
     "metadata": {
      "needs_background": "light"
     },
     "output_type": "display_data"
    }
   ],
   "source": [
    "plt.figure(figsize = (12, 8))\n",
    "\n",
    "cmap = sns.diverging_palette(230, 20, as_cmap = True)\n",
    "\n",
    "sns.heatmap(df.corr(), annot = True, fmt = '.2f', cmap = cmap)\n",
    "\n",
    "plt.show()"
   ]
  },
  {
   "cell_type": "markdown",
   "metadata": {
    "id": "Kmsjqg4oRAim"
   },
   "source": [
    "**Observations:**\n",
    "\n",
    "- **Pclass and Fare (Strongest Negative Correlation):** There is a strong negative correlation (-0.55) between **Pclass** and **Fare**, indicating that passengers in lower classes (higher Pclass values) generally paid less for their tickets.\n",
    "\n",
    "- **Pclass and Survived:** **Pclass** has a moderate negative correlation with **Survived** (-0.34), suggesting that passengers in lower classes had a lower survival rate. This may indicate that first-class passengers were more likely to survive compared to those in third class.\n",
    "\n",
    "- **SibSp and Parch:** A positive correlation (0.41) exists between **SibSp** (number of siblings/spouses aboard) and Parch (number of parents/children aboard), implying that passengers who traveled with siblings/spouses were also likely to have parents or children with them.\n",
    "\n",
    "- **Fare and Survived:** **Fare** and Survived have a positive correlation (0.26), indicating that passengers who paid higher fares were more likely to survive, possibly due to better access to life-saving resources or conditions related to higher-class accommodations.\n",
    "\n",
    "- **Age and Pclass:** There is a negative correlation (-0.37) between **Age** and **Pclass**, which suggests that older passengers were more likely to be in higher classes (lower Pclass values), possibly due to the socioeconomic status of older individuals.\n",
    "\n",
    "- **Fare and Parch/SibSp:** Fare is weakly positively correlated with both **Parch** (0.22) and **SibSp** (0.16), suggesting that passengers with family members aboard (more dependents) tended to pay slightly higher fares, possibly because they were booking for multiple people.\n",
    "\n",
    "- **Other Correlations:** The remaining correlations are weak, indicating little to no linear relationship between these pairs of variables (such as between **Age** and **Survived**, or **Parch** and **Survived**).\n",
    "\n",
    "**Summary:**\n",
    "- **Fare** and **Pclass** have a strong relationship, and both affect survival. Higher-class passengers paid more and had a higher chance of surviving.\n",
    "- Family-related variables like **SibSp** and **Parch** show some interdependence, as larger families likely traveled together. However, these do not seem to strongly impact survival."
   ]
  },
  {
   "cell_type": "markdown",
   "metadata": {},
   "source": [
    "## Step 7: Bivariate Analysis - Visualizing Relationships with Scatter Plots\n",
    "\n",
    "### Passanger Class and Fare"
   ]
  },
  {
   "cell_type": "code",
   "execution_count": 50,
   "metadata": {
    "id": "nkhvfnQ0mEaN",
    "outputId": "b1d10228-34be-42ac-f232-ebc945b591a8",
    "scrolled": false
   },
   "outputs": [
    {
     "data": {
      "image/png": "[encoded data removed]",
      "text/plain": [
       "<Figure size 432x432 with 1 Axes>"
      ]
     },
     "metadata": {
      "needs_background": "light"
     },
     "output_type": "display_data"
    }
   ],
   "source": [
    "# Scatterplot to visualize the relationship between Passanger Class and Fare\n",
    "plt.figure(figsize = (6, 6))\n",
    "\n",
    "sns.scatterplot(x = 'Pclass', y = 'Fare', data = df)\n",
    "\n",
    "plt.show()"
   ]
  },
  {
   "cell_type": "markdown",
   "metadata": {
    "id": "hyCzhvWqRAi0"
   },
   "source": [
    "**Observations:**\n",
    "- There is a clear distinction between fare amounts across the different classes. First-class passengers paid the highest fares, with one extreme value above 500. Second-class fares are lower, while third-class passengers paid the least. This reflects the hierarchical nature of the ticket prices across the classes."
   ]
  },
  {
   "cell_type": "markdown",
   "metadata": {},
   "source": [
    "### Passanger Class and Survival Status"
   ]
  },
  {
   "cell_type": "code",
   "execution_count": 51,
   "metadata": {
    "id": "lqiKHTqFmEaO",
    "outputId": "05d8dc6e-d124-4ad6-8caf-4a8614a320be",
    "scrolled": false
   },
   "outputs": [
    {
     "data": {
      "image/png": "[encoded data removed]",
      "text/plain": [
       "<Figure size 432x432 with 1 Axes>"
      ]
     },
     "metadata": {
      "needs_background": "light"
     },
     "output_type": "display_data"
    }
   ],
   "source": [
    "# Scatterplot to visulaize the relationship between Passanger Class and Survival Status.\n",
    "plt.figure(figsize = (6, 6))\n",
    "\n",
    "sns.scatterplot(x = 'Pclass', y = 'Survived', data = df)\n",
    "\n",
    "plt.show()"
   ]
  },
  {
   "cell_type": "markdown",
   "metadata": {
    "id": "mjNld1nnRAi6"
   },
   "source": [
    "**Observations:**\n",
    "- Survival is distributed across all three classes, but no clear pattern is evident from this plot alone. More in-depth analysis could reveal trends in survival rates based on class, but the scatter plot alone shows the presence of both survivors and non-survivors in all classes."
   ]
  },
  {
   "cell_type": "markdown",
   "metadata": {},
   "source": [
    "### Number of Siblings and Number of Parents"
   ]
  },
  {
   "cell_type": "code",
   "execution_count": 52,
   "metadata": {
    "id": "n5ddxR8JmEaO",
    "outputId": "9fd2ee8b-b184-4408-eab2-104bb33c463b",
    "scrolled": false
   },
   "outputs": [
    {
     "data": {
      "image/png": "[encoded data removed]",
      "text/plain": [
       "<Figure size 432x432 with 1 Axes>"
      ]
     },
     "metadata": {
      "needs_background": "light"
     },
     "output_type": "display_data"
    }
   ],
   "source": [
    "# Scatterplot to visualize the relationship between Number of Siblings and  Number of Parents.\n",
    "plt.figure(figsize = (6, 6))\n",
    "\n",
    "sns.scatterplot(x = 'SibSp', y = 'Parch', data = df)\n",
    "\n",
    "plt.show()"
   ]
  },
  {
   "cell_type": "markdown",
   "metadata": {
    "id": "8laYzUIURKp3"
   },
   "source": [
    "**Observations:**\n",
    "\n",
    "- There is a clustering of values near the origin, indicating that many passengers traveled with few siblings/spouses or parents/children. Larger families (higher values of SibSp and Parch) are rarer in the dataset, with a few extreme cases of larger groups traveling together."
   ]
  },
  {
   "cell_type": "markdown",
   "metadata": {},
   "source": [
    "### Passenger Fare and Survival Status"
   ]
  },
  {
   "cell_type": "code",
   "execution_count": 53,
   "metadata": {
    "id": "FwoalWG-mEaO",
    "outputId": "b8f7b8a8-a1ca-4024-efa3-1b2d7de9e7b4",
    "scrolled": false
   },
   "outputs": [
    {
     "data": {
      "image/png": "[encoded data removed]",
      "text/plain": [
       "<Figure size 432x432 with 1 Axes>"
      ]
     },
     "metadata": {
      "needs_background": "light"
     },
     "output_type": "display_data"
    }
   ],
   "source": [
    "    # Scatterplot to visulaize the relationship between Passanger Fare and Survival Status\n",
    "plt.figure(figsize = (6, 6))\n",
    "\n",
    "sns.scatterplot(x = 'Fare', y = 'Survived', data = df)\n",
    "\n",
    "plt.show()"
   ]
  },
  {
   "cell_type": "markdown",
   "metadata": {
    "id": "AkZn_JOURKp3"
   },
   "source": [
    "**Observations:**\n",
    "\n",
    "- Most of the passengers who did not survive had lower fares, while many of those who survived appear to have paid higher fares. This suggests a potential relationship between higher fare and increased chances of survival, possibly due to better access to resources."
   ]
  },
  {
   "cell_type": "markdown",
   "metadata": {},
   "source": [
    "### Age and Passenger Class"
   ]
  },
  {
   "cell_type": "code",
   "execution_count": 54,
   "metadata": {
    "id": "dh3dblT9mEaP",
    "outputId": "ccb46764-3095-4952-9d2a-3582ae6bde41",
    "scrolled": false
   },
   "outputs": [
    {
     "data": {
      "image/png": "[encoded data removed]",
      "text/plain": [
       "<Figure size 432x432 with 1 Axes>"
      ]
     },
     "metadata": {
      "needs_background": "light"
     },
     "output_type": "display_data"
    }
   ],
   "source": [
    "# Scatterplot to visulaize the relationship between Age and Passenger Class.\n",
    "plt.figure(figsize = (6, 6))\n",
    "\n",
    "sns.scatterplot(x = 'Age', y = 'Pclass', data = df)\n",
    "\n",
    "plt.show()"
   ]
  },
  {
   "cell_type": "markdown",
   "metadata": {
    "id": "MgcUFLZgmEaP"
   },
   "source": [
    "**Observations:**\n",
    "- Passengers of all ages are present across the three classes, though the majority of older passengers seem to be in the first and second classes. Third-class passengers appear to be generally younger on average."
   ]
  },
  {
   "cell_type": "markdown",
   "metadata": {
    "id": "GwsIbVlqd2Et"
   },
   "source": [
    "### Number of Siblings and Passenger Fare"
   ]
  },
  {
   "cell_type": "code",
   "execution_count": 55,
   "metadata": {
    "id": "Um10uS1zen-7",
    "scrolled": false
   },
   "outputs": [
    {
     "data": {
      "image/png": "[encoded data removed]",
      "text/plain": [
       "<Figure size 432x432 with 1 Axes>"
      ]
     },
     "metadata": {
      "needs_background": "light"
     },
     "output_type": "display_data"
    }
   ],
   "source": [
    "# Scatterplot to visualize the relationship between Number of Siblings and Passanger Fare.\n",
    "plt.figure(figsize = (6, 6))\n",
    "\n",
    "sns.scatterplot(x = 'SibSp', y = 'Fare', data = df)\n",
    "\n",
    "plt.show()"
   ]
  },
  {
   "cell_type": "markdown",
   "metadata": {
    "id": "1UztFyhXRAis"
   },
   "source": [
    "**Observations:**\n",
    "\n",
    "- Passengers with no siblings or spouses paid a wide range of fares, while those traveling with 1-2 siblings/spouses mostly paid lower fares. A few outliers with larger families paid higher fares."
   ]
  },
  {
   "cell_type": "markdown",
   "metadata": {},
   "source": [
    "### Number of Family and Passanger Fare"
   ]
  },
  {
   "cell_type": "code",
   "execution_count": 56,
   "metadata": {
    "id": "aSvLmh6mmEaN"
   },
   "outputs": [
    {
     "data": {
      "image/png": "[encoded data removed]",
      "text/plain": [
       "<Figure size 432x432 with 1 Axes>"
      ]
     },
     "metadata": {
      "needs_background": "light"
     },
     "output_type": "display_data"
    }
   ],
   "source": [
    "# Scatterplot to visualize the relationship between Number of Family Members and Passenger Fare.\n",
    "plt.figure(figsize = (6, 6))\n",
    "\n",
    "sns.scatterplot(x = 'Parch', y = 'Fare', data = df)\n",
    "\n",
    "plt.show()"
   ]
  },
  {
   "cell_type": "markdown",
   "metadata": {
    "id": "ognbRRh9RAiw"
   },
   "source": [
    "**Observations:**\n",
    "\n",
    "- Similar to the SibSp vs Fare plot, passengers with no parents/children paid a wide range of fares, while those traveling with parents/children paid slightly higher fares. A few outliers paid significantly more."
   ]
  },
  {
   "cell_type": "markdown",
   "metadata": {},
   "source": [
    "### Age and Number of Siblings"
   ]
  },
  {
   "cell_type": "code",
   "execution_count": 57,
   "metadata": {
    "id": "zOLrtRekmEaN"
   },
   "outputs": [
    {
     "data": {
      "image/png": "[encoded data removed]",
      "text/plain": [
       "<Figure size 432x432 with 1 Axes>"
      ]
     },
     "metadata": {
      "needs_background": "light"
     },
     "output_type": "display_data"
    }
   ],
   "source": [
    "# Scatterplot to visualize the relationship between Distance to Work and Air Quality\n",
    "plt.figure(figsize = (6, 6))\n",
    "\n",
    "sns.scatterplot(x = 'Age', y = 'SibSp', data = df)\n",
    "\n",
    "plt.show()"
   ]
  },
  {
   "cell_type": "markdown",
   "metadata": {
    "id": "XqQUKc0RRAiy"
   },
   "source": [
    "**Observations:**\n",
    "\n",
    "- Passengers with no siblings/spouses span all age groups, while those with 1-2 siblings/spouses are more concentrated in the younger age groups. Large families (higher SibSp values) are relatively rare and tend to be younger."
   ]
  },
  {
   "cell_type": "markdown",
   "metadata": {},
   "source": [
    "## Step 8: Splitting the Dataset into Train and Test Sets"
   ]
  },
  {
   "cell_type": "code",
   "execution_count": 68,
   "metadata": {
    "id": "beebRRkvHTQ3"
   },
   "outputs": [
    {
     "name": "stdout",
     "output_type": "stream",
     "text": [
      "<class 'pandas.core.frame.DataFrame'>\n",
      "Int64Index: 714 entries, 0 to 890\n",
      "Data columns (total 6 columns):\n",
      " #   Column  Non-Null Count  Dtype  \n",
      "---  ------  --------------  -----  \n",
      " 0   const   714 non-null    float64\n",
      " 1   Pclass  714 non-null    int64  \n",
      " 2   Age     714 non-null    float64\n",
      " 3   SibSp   714 non-null    int64  \n",
      " 4   Parch   714 non-null    int64  \n",
      " 5   Fare    714 non-null    float64\n",
      "dtypes: float64(3), int64(3)\n",
      "memory usage: 39.0 KB\n",
      "None\n"
     ]
    }
   ],
   "source": [
    "# Training data: Separate the dependent variable and independent variables\n",
    "X_train = df.dropna(subset = {'Age'})\n",
    "y_train = X_train['Survived']\n",
    "X_train = X_train.drop(columns = {'Survived', 'PassengerId', 'Name', 'Sex','Ticket','Cabin','Embarked'})\n",
    "X_train = sm.add_constant(X_train)\n",
    "\n",
    "summary_statistics = X_train.info()\n",
    "\n",
    "print(summary_statistics)"
   ]
  },
  {
   "cell_type": "markdown",
   "metadata": {},
   "source": [
    "## Step 9: Checking for Multicollinearity using VIF"
   ]
  },
  {
   "cell_type": "code",
   "execution_count": 69,
   "metadata": {
    "colab": {
     "base_uri": "https://localhost:8080/"
    },
    "id": "Dy-mv-XrmEaU",
    "outputId": "13351efd-3eb5-4353-e20f-89dd0b665b86",
    "scrolled": false
   },
   "outputs": [
    {
     "name": "stdout",
     "output_type": "stream",
     "text": [
      "  feature        VIF\n",
      "0   const  28.927673\n",
      "1  Pclass   1.706840\n",
      "2     Age   1.292372\n",
      "3   SibSp   1.273264\n",
      "4   Parch   1.229164\n",
      "5    Fare   1.581994\n"
     ]
    }
   ],
   "source": [
    "from statsmodels.stats.outliers_influence import variance_inflation_factor\n",
    "import pandas as pd\n",
    "\n",
    "# Function to check VIF\n",
    "def checking_vif(train):\n",
    "    vif = pd.DataFrame()\n",
    "    vif[\"feature\"] = train.columns\n",
    "\n",
    "    # Calculating VIF for each feature\n",
    "    vif[\"VIF\"] = [variance_inflation_factor(train.values, i) for i in range(len(train.columns))]\n",
    "    return vif\n",
    "\n",
    "\n",
    "print(checking_vif(X_train))"
   ]
  },
  {
   "cell_type": "markdown",
   "metadata": {
    "id": "9oPR2ihWmEaU"
   },
   "source": [
    "**Observations:**\n",
    "- No variable has a VIF value greater than 5, therefore there is noo multicollinearity in the data."
   ]
  },
  {
   "cell_type": "markdown",
   "metadata": {
    "id": "Pqm-fpjUkrtt"
   },
   "source": [
    "## Step 10: Creating the Linear Regression Model & Model Summary"
   ]
  },
  {
   "cell_type": "code",
   "execution_count": 70,
   "metadata": {
    "id": "jwDjEfcBjyV7"
   },
   "outputs": [
    {
     "data": {
      "text/html": [
       "<table class=\"simpletable\">\n",
       "<caption>OLS Regression Results</caption>\n",
       "<tr>\n",
       "  <th>Dep. Variable:</th>        <td>Survived</td>     <th>  R-squared:         </th> <td>   0.195</td>\n",
       "</tr>\n",
       "<tr>\n",
       "  <th>Model:</th>                   <td>OLS</td>       <th>  Adj. R-squared:    </th> <td>   0.189</td>\n",
       "</tr>\n",
       "<tr>\n",
       "  <th>Method:</th>             <td>Least Squares</td>  <th>  F-statistic:       </th> <td>   34.25</td>\n",
       "</tr>\n",
       "<tr>\n",
       "  <th>Date:</th>             <td>Sun, 13 Oct 2024</td> <th>  Prob (F-statistic):</th> <td>2.20e-31</td>\n",
       "</tr>\n",
       "<tr>\n",
       "  <th>Time:</th>                 <td>19:37:56</td>     <th>  Log-Likelihood:    </th> <td> -428.09</td>\n",
       "</tr>\n",
       "<tr>\n",
       "  <th>No. Observations:</th>      <td>   714</td>      <th>  AIC:               </th> <td>   868.2</td>\n",
       "</tr>\n",
       "<tr>\n",
       "  <th>Df Residuals:</th>          <td>   708</td>      <th>  BIC:               </th> <td>   895.6</td>\n",
       "</tr>\n",
       "<tr>\n",
       "  <th>Df Model:</th>              <td>     5</td>      <th>                     </th>     <td> </td>   \n",
       "</tr>\n",
       "<tr>\n",
       "  <th>Covariance Type:</th>      <td>nonrobust</td>    <th>                     </th>     <td> </td>   \n",
       "</tr>\n",
       "</table>\n",
       "<table class=\"simpletable\">\n",
       "<tr>\n",
       "     <td></td>       <th>coef</th>     <th>std err</th>      <th>t</th>      <th>P>|t|</th>  <th>[0.025</th>    <th>0.975]</th>  \n",
       "</tr>\n",
       "<tr>\n",
       "  <th>const</th>  <td>    1.1936</td> <td>    0.089</td> <td>   13.399</td> <td> 0.000</td> <td>    1.019</td> <td>    1.369</td>\n",
       "</tr>\n",
       "<tr>\n",
       "  <th>Pclass</th> <td>   -0.2432</td> <td>    0.026</td> <td>   -9.414</td> <td> 0.000</td> <td>   -0.294</td> <td>   -0.192</td>\n",
       "</tr>\n",
       "<tr>\n",
       "  <th>Age</th>    <td>   -0.0086</td> <td>    0.001</td> <td>   -6.612</td> <td> 0.000</td> <td>   -0.011</td> <td>   -0.006</td>\n",
       "</tr>\n",
       "<tr>\n",
       "  <th>SibSp</th>  <td>   -0.0575</td> <td>    0.020</td> <td>   -2.857</td> <td> 0.004</td> <td>   -0.097</td> <td>   -0.018</td>\n",
       "</tr>\n",
       "<tr>\n",
       "  <th>Parch</th>  <td>    0.0492</td> <td>    0.022</td> <td>    2.284</td> <td> 0.023</td> <td>    0.007</td> <td>    0.091</td>\n",
       "</tr>\n",
       "<tr>\n",
       "  <th>Fare</th>   <td>    0.0006</td> <td>    0.000</td> <td>    1.419</td> <td> 0.156</td> <td>   -0.000</td> <td>    0.001</td>\n",
       "</tr>\n",
       "</table>\n",
       "<table class=\"simpletable\">\n",
       "<tr>\n",
       "  <th>Omnibus:</th>       <td>210.274</td> <th>  Durbin-Watson:     </th> <td>   1.920</td>\n",
       "</tr>\n",
       "<tr>\n",
       "  <th>Prob(Omnibus):</th> <td> 0.000</td>  <th>  Jarque-Bera (JB):  </th> <td>  47.052</td>\n",
       "</tr>\n",
       "<tr>\n",
       "  <th>Skew:</th>          <td> 0.343</td>  <th>  Prob(JB):          </th> <td>6.07e-11</td>\n",
       "</tr>\n",
       "<tr>\n",
       "  <th>Kurtosis:</th>      <td> 1.946</td>  <th>  Cond. No.          </th> <td>    367.</td>\n",
       "</tr>\n",
       "</table><br/><br/>Notes:<br/>[1] Standard Errors assume that the covariance matrix of the errors is correctly specified."
      ],
      "text/plain": [
       "<class 'statsmodels.iolib.summary.Summary'>\n",
       "\"\"\"\n",
       "                            OLS Regression Results                            \n",
       "==============================================================================\n",
       "Dep. Variable:               Survived   R-squared:                       0.195\n",
       "Model:                            OLS   Adj. R-squared:                  0.189\n",
       "Method:                 Least Squares   F-statistic:                     34.25\n",
       "Date:                Sun, 13 Oct 2024   Prob (F-statistic):           2.20e-31\n",
       "Time:                        19:37:56   Log-Likelihood:                -428.09\n",
       "No. Observations:                 714   AIC:                             868.2\n",
       "Df Residuals:                     708   BIC:                             895.6\n",
       "Df Model:                           5                                         \n",
       "Covariance Type:            nonrobust                                         \n",
       "==============================================================================\n",
       "                 coef    std err          t      P>|t|      [0.025      0.975]\n",
       "------------------------------------------------------------------------------\n",
       "const          1.1936      0.089     13.399      0.000       1.019       1.369\n",
       "Pclass        -0.2432      0.026     -9.414      0.000      -0.294      -0.192\n",
       "Age           -0.0086      0.001     -6.612      0.000      -0.011      -0.006\n",
       "SibSp         -0.0575      0.020     -2.857      0.004      -0.097      -0.018\n",
       "Parch          0.0492      0.022      2.284      0.023       0.007       0.091\n",
       "Fare           0.0006      0.000      1.419      0.156      -0.000       0.001\n",
       "==============================================================================\n",
       "Omnibus:                      210.274   Durbin-Watson:                   1.920\n",
       "Prob(Omnibus):                  0.000   Jarque-Bera (JB):               47.052\n",
       "Skew:                           0.343   Prob(JB):                     6.07e-11\n",
       "Kurtosis:                       1.946   Cond. No.                         367.\n",
       "==============================================================================\n",
       "\n",
       "Notes:\n",
       "[1] Standard Errors assume that the covariance matrix of the errors is correctly specified.\n",
       "\"\"\""
      ]
     },
     "execution_count": 70,
     "metadata": {},
     "output_type": "execute_result"
    }
   ],
   "source": [
    "# create the linear regression model\n",
    "model1 = sm.OLS(y_train, X_train).fit()\n",
    "# Get the model summary\n",
    "model1.summary()"
   ]
  },
  {
   "cell_type": "markdown",
   "metadata": {
    "id": "Yde7rQQWRAjU"
   },
   "source": [
    "**Observations:**\n",
    "\n",
    "- The R-squared value is 0.195, which indicates that the model explains 19.5% of the variance in the dependent variable. This value means the model performs poorly in predicting the behaviour of the dataset, meaning other models should be explored. The high AIC (868.2) and BIC (895.6) values also confirm this. \n",
    "\n",
    "- The intercept (constant) of the model is 1.1936, and all the predictor variables have non-zero coefficients.\n",
    "\n",
    "- The p-values for **Fare** is greater than 0.05, which indicates that this predictor variable is statistically insignificant in predicting the dependent variable.\n",
    "\n",
    "- The coefficients of the predictor variables indicate the direction and strength of their relationship with the dependent variable. All except number of family memebers and Fare have a negative coefficient in relation to the outcome (survival status).\n",
    "\n",
    "- The diagnostic statistics indicate that the residuals are not normally distributed and are slightly skewed to the right, but there is no significant autocorrelation among the residuals."
   ]
  },
  {
   "cell_type": "markdown",
   "metadata": {},
   "source": [
    "## Step 11: Dropping Insignificant Variables and Re-creating the Model"
   ]
  },
  {
   "cell_type": "code",
   "execution_count": 71,
   "metadata": {
    "id": "MwsYfoPtRKp7",
    "scrolled": false
   },
   "outputs": [
    {
     "data": {
      "text/html": [
       "<table class=\"simpletable\">\n",
       "<caption>OLS Regression Results</caption>\n",
       "<tr>\n",
       "  <th>Dep. Variable:</th>        <td>Survived</td>     <th>  R-squared:         </th> <td>   0.192</td>\n",
       "</tr>\n",
       "<tr>\n",
       "  <th>Model:</th>                   <td>OLS</td>       <th>  Adj. R-squared:    </th> <td>   0.188</td>\n",
       "</tr>\n",
       "<tr>\n",
       "  <th>Method:</th>             <td>Least Squares</td>  <th>  F-statistic:       </th> <td>   42.24</td>\n",
       "</tr>\n",
       "<tr>\n",
       "  <th>Date:</th>             <td>Sun, 13 Oct 2024</td> <th>  Prob (F-statistic):</th> <td>8.50e-32</td>\n",
       "</tr>\n",
       "<tr>\n",
       "  <th>Time:</th>                 <td>19:38:02</td>     <th>  Log-Likelihood:    </th> <td> -429.10</td>\n",
       "</tr>\n",
       "<tr>\n",
       "  <th>No. Observations:</th>      <td>   714</td>      <th>  AIC:               </th> <td>   868.2</td>\n",
       "</tr>\n",
       "<tr>\n",
       "  <th>Df Residuals:</th>          <td>   709</td>      <th>  BIC:               </th> <td>   891.1</td>\n",
       "</tr>\n",
       "<tr>\n",
       "  <th>Df Model:</th>              <td>     4</td>      <th>                     </th>     <td> </td>   \n",
       "</tr>\n",
       "<tr>\n",
       "  <th>Covariance Type:</th>      <td>nonrobust</td>    <th>                     </th>     <td> </td>   \n",
       "</tr>\n",
       "</table>\n",
       "<table class=\"simpletable\">\n",
       "<tr>\n",
       "     <td></td>       <th>coef</th>     <th>std err</th>      <th>t</th>      <th>P>|t|</th>  <th>[0.025</th>    <th>0.975]</th>  \n",
       "</tr>\n",
       "<tr>\n",
       "  <th>const</th>  <td>    1.2588</td> <td>    0.076</td> <td>   16.480</td> <td> 0.000</td> <td>    1.109</td> <td>    1.409</td>\n",
       "</tr>\n",
       "<tr>\n",
       "  <th>Pclass</th> <td>   -0.2639</td> <td>    0.021</td> <td>  -12.371</td> <td> 0.000</td> <td>   -0.306</td> <td>   -0.222</td>\n",
       "</tr>\n",
       "<tr>\n",
       "  <th>Age</th>    <td>   -0.0087</td> <td>    0.001</td> <td>   -6.715</td> <td> 0.000</td> <td>   -0.011</td> <td>   -0.006</td>\n",
       "</tr>\n",
       "<tr>\n",
       "  <th>SibSp</th>  <td>   -0.0545</td> <td>    0.020</td> <td>   -2.722</td> <td> 0.007</td> <td>   -0.094</td> <td>   -0.015</td>\n",
       "</tr>\n",
       "<tr>\n",
       "  <th>Parch</th>  <td>    0.0552</td> <td>    0.021</td> <td>    2.612</td> <td> 0.009</td> <td>    0.014</td> <td>    0.097</td>\n",
       "</tr>\n",
       "</table>\n",
       "<table class=\"simpletable\">\n",
       "<tr>\n",
       "  <th>Omnibus:</th>       <td>228.960</td> <th>  Durbin-Watson:     </th> <td>   1.921</td>\n",
       "</tr>\n",
       "<tr>\n",
       "  <th>Prob(Omnibus):</th> <td> 0.000</td>  <th>  Jarque-Bera (JB):  </th> <td>  47.247</td>\n",
       "</tr>\n",
       "<tr>\n",
       "  <th>Skew:</th>          <td> 0.332</td>  <th>  Prob(JB):          </th> <td>5.50e-11</td>\n",
       "</tr>\n",
       "<tr>\n",
       "  <th>Kurtosis:</th>      <td> 1.929</td>  <th>  Cond. No.          </th> <td>    157.</td>\n",
       "</tr>\n",
       "</table><br/><br/>Notes:<br/>[1] Standard Errors assume that the covariance matrix of the errors is correctly specified."
      ],
      "text/plain": [
       "<class 'statsmodels.iolib.summary.Summary'>\n",
       "\"\"\"\n",
       "                            OLS Regression Results                            \n",
       "==============================================================================\n",
       "Dep. Variable:               Survived   R-squared:                       0.192\n",
       "Model:                            OLS   Adj. R-squared:                  0.188\n",
       "Method:                 Least Squares   F-statistic:                     42.24\n",
       "Date:                Sun, 13 Oct 2024   Prob (F-statistic):           8.50e-32\n",
       "Time:                        19:38:02   Log-Likelihood:                -429.10\n",
       "No. Observations:                 714   AIC:                             868.2\n",
       "Df Residuals:                     709   BIC:                             891.1\n",
       "Df Model:                           4                                         \n",
       "Covariance Type:            nonrobust                                         \n",
       "==============================================================================\n",
       "                 coef    std err          t      P>|t|      [0.025      0.975]\n",
       "------------------------------------------------------------------------------\n",
       "const          1.2588      0.076     16.480      0.000       1.109       1.409\n",
       "Pclass        -0.2639      0.021    -12.371      0.000      -0.306      -0.222\n",
       "Age           -0.0087      0.001     -6.715      0.000      -0.011      -0.006\n",
       "SibSp         -0.0545      0.020     -2.722      0.007      -0.094      -0.015\n",
       "Parch          0.0552      0.021      2.612      0.009       0.014       0.097\n",
       "==============================================================================\n",
       "Omnibus:                      228.960   Durbin-Watson:                   1.921\n",
       "Prob(Omnibus):                  0.000   Jarque-Bera (JB):               47.247\n",
       "Skew:                           0.332   Prob(JB):                     5.50e-11\n",
       "Kurtosis:                       1.929   Cond. No.                         157.\n",
       "==============================================================================\n",
       "\n",
       "Notes:\n",
       "[1] Standard Errors assume that the covariance matrix of the errors is correctly specified.\n",
       "\"\"\""
      ]
     },
     "execution_count": 71,
     "metadata": {},
     "output_type": "execute_result"
    }
   ],
   "source": [
    "# Training data: drop Fare\n",
    "X_train = X_train.drop(columns = {'Fare'})\n",
    "\n",
    "# Create the model\n",
    "model2 = sm.OLS(y_train, X_train).fit()\n",
    "\n",
    "# Get the model summary\n",
    "model2.summary()"
   ]
  },
  {
   "cell_type": "markdown",
   "metadata": {
    "id": "LRxnpWg3mEaR"
   },
   "source": [
    "## Step 12: Checking Assumptions for Linear Regression\n",
    "\n",
    "1. Mean of residuals should be 0\n",
    "2. No Heteroscedasticity\n",
    "3. Linearity of variables\n",
    "4. Normality of error terms"
   ]
  },
  {
   "cell_type": "markdown",
   "metadata": {
    "id": "-QAPpLhrmEaV"
   },
   "source": [
    "### Step 12 - Assumption 1. Check for mean residuals"
   ]
  },
  {
   "cell_type": "code",
   "execution_count": 72,
   "metadata": {
    "id": "FeCX4j8vmEaV",
    "scrolled": true
   },
   "outputs": [
    {
     "data": {
      "text/plain": [
       "-1.55765534302276e-15"
      ]
     },
     "execution_count": 72,
     "metadata": {},
     "output_type": "execute_result"
    }
   ],
   "source": [
    "residuals = model2.resid\n",
    "np.mean(residuals)"
   ]
  },
  {
   "cell_type": "markdown",
   "metadata": {
    "id": "NvYEVyfQRAjh"
   },
   "source": [
    "**Observations:**\n",
    "\n",
    "- The mean of the residuals is approximately zero, which satisfies one of the linear regression assumptions that the mean of residuals should be zero. This indicates that the linear regression model has been fit correctly to the data and the model is unbiased. "
   ]
  },
  {
   "cell_type": "markdown",
   "metadata": {
    "id": "df7sEIL0mEaW"
   },
   "source": [
    "### Step 12 - Assumption 2. Check for homoscedasticity"
   ]
  },
  {
   "cell_type": "code",
   "execution_count": 73,
   "metadata": {
    "id": "_4as-Efdd2Fn"
   },
   "outputs": [],
   "source": [
    "from statsmodels.stats.diagnostic import het_white\n",
    "\n",
    "from statsmodels.compat import lzip\n",
    "\n",
    "import statsmodels.stats.api as sms"
   ]
  },
  {
   "cell_type": "code",
   "execution_count": 74,
   "metadata": {
    "id": "kpFfPIdkmEaW"
   },
   "outputs": [
    {
     "data": {
      "text/plain": [
       "[('F statistic', 0.8809922734483447), ('p-value', 0.8824593618547736)]"
      ]
     },
     "execution_count": 74,
     "metadata": {},
     "output_type": "execute_result"
    }
   ],
   "source": [
    "name = [\"F statistic\", \"p-value\"]\n",
    "\n",
    "test = sms.het_goldfeldquandt(model2.resid, model2.model.exog)\n",
    "\n",
    "lzip(name, test)"
   ]
  },
  {
   "cell_type": "markdown",
   "metadata": {
    "id": "1TPhzwu6RAjm"
   },
   "source": [
    "**Observations:**\n",
    "\n",
    "- The p-value is greater than 0.05, indicating that there is no significant evidence of heteroscedasticity in the model. This satisfies one of the linear regression assumptions that there should be no heteroscedasticity in the error terms."
   ]
  },
  {
   "cell_type": "markdown",
   "metadata": {
    "id": "UzbnPofwmEaX"
   },
   "source": [
    "### Step 12 - Assumption 3. Linearity of variables"
   ]
  },
  {
   "cell_type": "code",
   "execution_count": 75,
   "metadata": {
    "colab": {
     "base_uri": "https://localhost:8080/",
     "height": 295
    },
    "id": "UxjY8jyKmEaX",
    "outputId": "6226e309-cb8e-44b5-d961-bb6154949949",
    "scrolled": true
   },
   "outputs": [
    {
     "data": {
      "image/png": "[encoded data removed]",
      "text/plain": [
       "<Figure size 432x288 with 1 Axes>"
      ]
     },
     "metadata": {
      "needs_background": "light"
     },
     "output_type": "display_data"
    }
   ],
   "source": [
    "# Predicted values\n",
    "fitted = model2.fittedvalues\n",
    "\n",
    "# sns.set_style(\"whitegrid\")\n",
    "\n",
    "sns.residplot(x=fitted, y=y_train, color=\"lightblue\", lowess=True)\n",
    "\n",
    "plt.xlabel(\"Fitted Values\")\n",
    "\n",
    "plt.ylabel(\"Residual\")\n",
    "\n",
    "plt.title(\"Residual PLOT\")\n",
    "\n",
    "plt.show()\n"
   ]
  },
  {
   "cell_type": "markdown",
   "metadata": {
    "id": "rYWMZchHmEaX"
   },
   "source": [
    "**Observations:**\n",
    "- Pattern: The residuals are not randomly distributed around the horizontal line (which represents zero). Instead, there is a clear pattern in the residuals, where they form distinct lines. This indicates that there may be some underlying structure in the data that the model has not captured well.\n",
    "- Shape: The residuals seem to spread out as the fitted values increase, which could indicate heteroscedasticity—a condition where the variance of the residuals is not constant across all levels of the fitted values. In a good model, residuals should have constant variance (homoscedasticity).\n",
    "- Clustering: The plot shows two distinct bands of residuals (above and below the zero line), which could suggest that there are categorical or binary variables in the data that have not been modeled appropriately, or some non-linearity that the current model is not capturing.\n",
    "- Conclusion: The residual plot indicates potential issues with the model, such as heteroscedasticity and non-linearity. This suggests that the model may not be adequately capturing the relationships in the data, and adjustments, such as transforming variables or using a different model, may be necessary."
   ]
  },
  {
   "cell_type": "markdown",
   "metadata": {
    "id": "s1UAjPqMmEaX"
   },
   "source": [
    "### Step 12 - Assumption 4. Normality of error terms"
   ]
  },
  {
   "cell_type": "code",
   "execution_count": 76,
   "metadata": {
    "id": "ZFHf71ewmEaX",
    "scrolled": true
   },
   "outputs": [
    {
     "data": {
      "image/png": "[encoded data removed]",
      "text/plain": [
       "<Figure size 432x288 with 1 Axes>"
      ]
     },
     "metadata": {
      "needs_background": "light"
     },
     "output_type": "display_data"
    }
   ],
   "source": [
    "# Plot histogram of residuals\n",
    "\n",
    "residuals = model2.resid\n",
    "\n",
    "plt.hist(residuals, bins=20)\n",
    "plt.xlabel(\"Residuals\")\n",
    "plt.ylabel(\"Frequency\")\n",
    "plt.title(\"Histogram of Residuals\")\n",
    "plt.show()"
   ]
  },
  {
   "cell_type": "markdown",
   "metadata": {},
   "source": [
    "Observations:\n",
    "- Slightly Skewed Distribution: The residuals are not perfectly symmetric. The histogram shows a higher concentration of residuals around the slightly negative side (between -0.5 and 0), which suggests some negative skew. This may indicate that the model is under-predicting slightly more than it over-predicts.\n",
    "\n",
    "- Peak around Zero: The majority of the residuals are centered around zero, which is a good sign. It indicates that most predictions made by the model are close to the actual values, with small errors.\n",
    "\n",
    "- Multimodal Distribution: There appear to be multiple peaks in the residual distribution, which could indicate that the model is not fully capturing some underlying structure or relationships in the data. This might suggest a need for further investigation, possibly due to missing variables or a need for a more complex model.\n",
    "\n",
    "- Conclusion: The residuals are fairly centered around zero, but the slight negative skew and multimodal pattern indicate that the model may not be fully capturing the relationships in the data. Further model refinement, transformations, or additional features may be needed."
   ]
  },
  {
   "cell_type": "markdown",
   "metadata": {},
   "source": [
    "## Step 13 - Q-Q Plot for Checking Normality of Error Terms"
   ]
  },
  {
   "cell_type": "code",
   "execution_count": 77,
   "metadata": {
    "colab": {
     "base_uri": "https://localhost:8080/",
     "height": 295
    },
    "id": "8aVhzXhEmEaY",
    "outputId": "4f867523-0e7c-410b-804b-158448e04367",
    "scrolled": true
   },
   "outputs": [
    {
     "data": {
      "image/png": "[encoded data removed]",
      "text/plain": [
       "<Figure size 432x288 with 1 Axes>"
      ]
     },
     "metadata": {
      "needs_background": "light"
     },
     "output_type": "display_data"
    }
   ],
   "source": [
    "# Plot q-q plot of residuals\n",
    "import pylab\n",
    "\n",
    "import scipy.stats as stats\n",
    "\n",
    "stats.probplot(residuals, dist = \"norm\", plot = pylab)\n",
    "\n",
    "plt.show()"
   ]
  },
  {
   "cell_type": "markdown",
   "metadata": {},
   "source": [
    "## Step 14 - Model Performance Comparison on Train and Test Data"
   ]
  },
  {
   "cell_type": "code",
   "execution_count": 78,
   "metadata": {
    "id": "b5_l2YusmEaR",
    "scrolled": true
   },
   "outputs": [
    {
     "name": "stdout",
     "output_type": "stream",
     "text": [
      "    Data      RMSE       MAE  MAPE\n",
      "0  Train  0.441332  0.391393   inf\n",
      "1   Test  0.533614  0.497449   inf\n"
     ]
    }
   ],
   "source": [
    "# RMSE\n",
    "def rmse(predictions, targets):\n",
    "    return np.sqrt(((targets - predictions) ** 2).mean())\n",
    "\n",
    "\n",
    "# MAPE\n",
    "def mape(predictions, targets):\n",
    "    return np.mean(np.abs((targets - predictions)) / targets) * 100\n",
    "\n",
    "\n",
    "# MAE\n",
    "def mae(predictions, targets):\n",
    "    return np.mean(np.abs((targets - predictions)))\n",
    "\n",
    "\n",
    "# Model Performance on test and train data\n",
    "def model_pref(olsmodel, x_train, x_test):\n",
    "\n",
    "    # In-sample Prediction\n",
    "    y_pred_train = olsmodel.predict(x_train)\n",
    "    y_observed_train = y_train\n",
    "\n",
    "    # Prediction on test data\n",
    "    y_pred_test = olsmodel.predict(x_test)\n",
    "    y_observed_test = y_test\n",
    "\n",
    "    print(\n",
    "        pd.DataFrame(\n",
    "            {\n",
    "                \"Data\": [\"Train\", \"Test\"],\n",
    "                \"RMSE\": [\n",
    "                    rmse(y_pred_train, y_observed_train),\n",
    "                    rmse(y_pred_test, y_observed_test),\n",
    "                ],\n",
    "                \"MAE\": [\n",
    "                    mae(y_pred_train, y_observed_train),\n",
    "                    mae(y_pred_test, y_observed_test),\n",
    "                ],\n",
    "                \"MAPE\": [\n",
    "                    mape(y_pred_train, y_observed_train),\n",
    "                    mape(y_pred_test, y_observed_test),\n",
    "                ],\n",
    "            }\n",
    "        )\n",
    "    )\n",
    "\n",
    "#Load in test data\n",
    "test_df = pd.read_csv(\"D:/Mac/Learning_Resources/Kaggle Projects/titanic/test.csv\")\n",
    "X_test = test_df.dropna(subset=['Age'])\n",
    "X_test = X_test.drop(columns=['PassengerId', 'Name', 'Sex', 'Ticket', 'Fare', 'Cabin', 'Embarked'])\n",
    "X_test = sm.add_constant(X_test)\n",
    "\n",
    "# Checking model performance\n",
    "model_pref(model2, X_train, X_test)  "
   ]
  },
  {
   "cell_type": "markdown",
   "metadata": {
    "id": "nf9MNVkFRAjy"
   },
   "source": [
    "**Observations:**\n",
    "\n",
    "- The root mean squared error (RMSE) of the test dataset (0.534) is slightly higher than that of the training dataset (0.441), indicating that the model performs slightly worse on the test dataset than on the training dataset.\n",
    "\n",
    "- The mean absolute error (MAE) of the test dataset (0.497) is higher than that of the training dataset (0.391), which also indicates that the model performs slightly worse on the test dataset.\n",
    "\n",
    "- The MAPE value is infinite (inf) for both the training and test sets. This usually happens when there are very small or zero actual values in the dataset, causing division by zero or extremely large percentages, making MAPE invalid.\n",
    "\n",
    "**Conclusion**\n",
    "- The model shows consistent performance between training and test sets based on RMSE and MAE, which is a good sign of generalization.\n",
    "\n",
    "- However, the MAPE being infinite suggests there may be a problem in the data, such as zero values in the target variable. You might need to handle those values differently, or MAPE may not be an appropriate metric for this dataset."
   ]
  },
  {
   "cell_type": "markdown",
   "metadata": {
    "id": "WexM8Ae2RKp_"
   },
   "source": [
    "## Step 15 - Applying Cross Validation and Evaluation"
   ]
  },
  {
   "cell_type": "code",
   "execution_count": 79,
   "metadata": {
    "colab": {
     "base_uri": "https://localhost:8080/"
    },
    "id": "rxh0bcTbRKp_",
    "outputId": "cb734e7a-5c4e-4791-c64f-111c6c66c135"
   },
   "outputs": [
    {
     "name": "stdout",
     "output_type": "stream",
     "text": [
      "RSquared: 0.149 (+/- 0.283)\n",
      "Mean Squared Error: 0.198 (+/- 0.036)\n"
     ]
    }
   ],
   "source": [
    "# Import the required function\n",
    "\n",
    "from sklearn.model_selection import cross_val_score\n",
    "\n",
    "# Build the regression model and cross-validate\n",
    "linearregression = LinearRegression()                                    \n",
    "\n",
    "cv_Score11 = cross_val_score(linearregression, X_train, y_train, cv = 10)\n",
    "cv_Score12 = cross_val_score(linearregression, X_train, y_train, cv = 10, \n",
    "                             scoring = 'neg_mean_squared_error')                                  \n",
    "\n",
    "\n",
    "print(\"RSquared: %0.3f (+/- %0.3f)\" % (cv_Score11.mean(), cv_Score11.std() * 2))\n",
    "print(\"Mean Squared Error: %0.3f (+/- %0.3f)\" % (-1*cv_Score12.mean(), cv_Score12.std() * 2))"
   ]
  },
  {
   "cell_type": "markdown",
   "metadata": {
    "id": "eDC6O874m9_T"
   },
   "source": [
    "## Step 16 - Extracting and Creating a DataFrame (table) of Coefficients"
   ]
  },
  {
   "cell_type": "code",
   "execution_count": 80,
   "metadata": {
    "id": "MqgvS0SXHTRW",
    "scrolled": false
   },
   "outputs": [
    {
     "data": {
      "text/html": [
       "<div>\n",
       "<style scoped>\n",
       "    .dataframe tbody tr th:only-of-type {\n",
       "        vertical-align: middle;\n",
       "    }\n",
       "\n",
       "    .dataframe tbody tr th {\n",
       "        vertical-align: top;\n",
       "    }\n",
       "\n",
       "    .dataframe thead th {\n",
       "        text-align: right;\n",
       "    }\n",
       "</style>\n",
       "<table border=\"1\" class=\"dataframe\">\n",
       "  <thead>\n",
       "    <tr style=\"text-align: right;\">\n",
       "      <th></th>\n",
       "      <th>Feature</th>\n",
       "      <th>Coefs</th>\n",
       "    </tr>\n",
       "  </thead>\n",
       "  <tbody>\n",
       "    <tr>\n",
       "      <th>0</th>\n",
       "      <td>const</td>\n",
       "      <td>1.258825</td>\n",
       "    </tr>\n",
       "    <tr>\n",
       "      <th>1</th>\n",
       "      <td>Pclass</td>\n",
       "      <td>-0.263888</td>\n",
       "    </tr>\n",
       "    <tr>\n",
       "      <th>2</th>\n",
       "      <td>Age</td>\n",
       "      <td>-0.008697</td>\n",
       "    </tr>\n",
       "    <tr>\n",
       "      <th>3</th>\n",
       "      <td>SibSp</td>\n",
       "      <td>-0.054504</td>\n",
       "    </tr>\n",
       "    <tr>\n",
       "      <th>4</th>\n",
       "      <td>Parch</td>\n",
       "      <td>0.055199</td>\n",
       "    </tr>\n",
       "  </tbody>\n",
       "</table>\n",
       "</div>"
      ],
      "text/plain": [
       "  Feature     Coefs\n",
       "0   const  1.258825\n",
       "1  Pclass -0.263888\n",
       "2     Age -0.008697\n",
       "3   SibSp -0.054504\n",
       "4   Parch  0.055199"
      ]
     },
     "execution_count": 80,
     "metadata": {},
     "output_type": "execute_result"
    }
   ],
   "source": [
    "coef = model2.params\n",
    "\n",
    "pd.DataFrame({'Feature' : coef.index, 'Coefs' : coef.values})"
   ]
  },
  {
   "cell_type": "markdown",
   "metadata": {},
   "source": [
    "## Step 17 - Writing the Linear Regression Equation and Coefficients"
   ]
  },
  {
   "cell_type": "code",
   "execution_count": 81,
   "metadata": {
    "colab": {
     "base_uri": "https://localhost:8080/"
    },
    "id": "PWh3qZDlHTRY",
    "outputId": "30d49dad-b88b-4a70-c783-65f3c4d7f0af",
    "scrolled": true
   },
   "outputs": [
    {
     "name": "stdout",
     "output_type": "stream",
     "text": [
      "log (Survived) = \t( 1.2588249207948286 ) *  const + ( -0.263888193084102 ) *  Pclass + ( -0.008697133963970868 ) *  Age + ( -0.054504329274204684 ) *  SibSp + ( 0.055198830003050134 ) *  Parch + "
     ]
    }
   ],
   "source": [
    "# Write the equation of the fit\n",
    "\n",
    "Equation = \"log (Survived) = \"\n",
    "\n",
    "print(Equation, end = '\\t')\n",
    "\n",
    "for i in range(len(coef)):\n",
    "    print('(', coef[i], ') * ', coef.index[i], '+', end = ' ')"
   ]
  },
  {
   "cell_type": "markdown",
   "metadata": {},
   "source": [
    "**Using the linear regression produced a prediction model with 19% accuracy, which is a very poor result, so other models will be implemented to improve the prediction accuracy**"
   ]
  }
 ],
 "metadata": {
  "colab": {
   "collapsed_sections": [],
   "name": "Learners_Notebook_Boston_house_price_Updated.ipynb",
   "provenance": []
  },
  "kernelspec": {
   "display_name": "Python 3",
   "language": "python",
   "name": "python3"
  },
  "language_info": {
   "codemirror_mode": {
    "name": "ipython",
    "version": 3
   },
   "file_extension": ".py",
   "mimetype": "text/x-python",
   "name": "python",
   "nbconvert_exporter": "python",
   "pygments_lexer": "ipython3",
   "version": "3.8.8"
  }
 },
 "nbformat": 4,
 "nbformat_minor": 1
}
